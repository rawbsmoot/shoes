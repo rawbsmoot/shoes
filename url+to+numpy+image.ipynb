{
 "cells": [
  {
   "cell_type": "code",
   "execution_count": 4,
   "metadata": {
    "collapsed": true
   },
   "outputs": [],
   "source": [
    "import numpy as np\n",
    "import pandas as pd\n",
    "from PIL import Image\n",
    "from StringIO import StringIO\n",
    "import cStringIO\n",
    "import urllib\n",
    "import cv2\n",
    "import requests\n",
    "%matplotlib inline\n",
    "import matplotlib.pyplot as plt"
   ]
  },
  {
   "cell_type": "code",
   "execution_count": 11,
   "metadata": {
    "collapsed": false
   },
   "outputs": [],
   "source": [
    "df = pd.read_csv('../data/csvs/fice.csv')"
   ]
  },
  {
   "cell_type": "code",
   "execution_count": 49,
   "metadata": {
    "collapsed": false
   },
   "outputs": [],
   "source": [
    "def get_image(image_links):\n",
    "    count = 1\n",
    "    for i in image_links:\n",
    "        urllib.urlretrieve(i, '../images/fice%d.jpg' % count)\n",
    "        count += 1\n",
    "        \n",
    "def get_np_array(image_links):\n",
    "    count = 1\n",
    "    for i in image_links:\n",
    "        resp = requests.get(i)\n",
    "        image = np.array(Image.open(StringIO(resp.content)))\n",
    "        np.save('../fice%d' % count, image)\n",
    "        count += 1\n",
    "        "
   ]
  },
  {
   "cell_type": "code",
   "execution_count": 50,
   "metadata": {
    "collapsed": false
   },
   "outputs": [],
   "source": [
    "get_image(df['image'])\n",
    "get_np_array(df['image'])"
   ]
  }
 ],
 "metadata": {
  "anaconda-cloud": {},
  "kernelspec": {
   "display_name": "Python 2",
   "language": "python",
   "name": "python2"
  },
  "language_info": {
   "codemirror_mode": {
    "name": "ipython",
    "version": 2
   },
   "file_extension": ".py",
   "mimetype": "text/x-python",
   "name": "python",
   "nbconvert_exporter": "python",
   "pygments_lexer": "ipython2",
   "version": "2.7.9"
  }
 },
 "nbformat": 4,
 "nbformat_minor": 1
}
